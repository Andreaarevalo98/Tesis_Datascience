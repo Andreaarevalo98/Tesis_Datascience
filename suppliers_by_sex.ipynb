{
 "cells": [
  {
   "cell_type": "markdown",
   "metadata": {},
   "source": [
    "# Best-selling suppliers in gijón by gender"
   ]
  },
  {
   "cell_type": "code",
   "execution_count": 1,
   "metadata": {},
   "outputs": [],
   "source": [
    "# required modules\n",
    "import pandas as pd\n",
    "import matplotlib.pyplot as plt\n",
    "import numpy as np\n",
    "from datetime import datetime, timedelta\n",
    "import matplotlib.pyplot as plt"
   ]
  },
  {
   "cell_type": "code",
   "execution_count": 2,
   "metadata": {},
   "outputs": [],
   "source": [
    "df0 = pd.read_csv('dataset_e3.csv')"
   ]
  },
  {
   "cell_type": "code",
   "execution_count": 3,
   "metadata": {},
   "outputs": [
    {
     "data": {
      "text/html": [
       "<div>\n",
       "<style scoped>\n",
       "    .dataframe tbody tr th:only-of-type {\n",
       "        vertical-align: middle;\n",
       "    }\n",
       "\n",
       "    .dataframe tbody tr th {\n",
       "        vertical-align: top;\n",
       "    }\n",
       "\n",
       "    .dataframe thead th {\n",
       "        text-align: right;\n",
       "    }\n",
       "</style>\n",
       "<table border=\"1\" class=\"dataframe\">\n",
       "  <thead>\n",
       "    <tr style=\"text-align: right;\">\n",
       "      <th></th>\n",
       "      <th>usuario</th>\n",
       "      <th>categorias</th>\n",
       "      <th>numero_articulos</th>\n",
       "      <th>fecha</th>\n",
       "      <th>precio</th>\n",
       "      <th>valoracion</th>\n",
       "      <th>comentarios</th>\n",
       "      <th>proveedores</th>\n",
       "      <th>ciudad</th>\n",
       "    </tr>\n",
       "  </thead>\n",
       "  <tbody>\n",
       "    <tr>\n",
       "      <th>0</th>\n",
       "      <td>1</td>\n",
       "      <td>Cocina</td>\n",
       "      <td>2</td>\n",
       "      <td>Otoño</td>\n",
       "      <td>112.28</td>\n",
       "      <td>2.7</td>\n",
       "      <td>me gusto</td>\n",
       "      <td>Flora</td>\n",
       "      <td>Valladolid</td>\n",
       "    </tr>\n",
       "    <tr>\n",
       "      <th>1</th>\n",
       "      <td>1</td>\n",
       "      <td>Baño</td>\n",
       "      <td>6</td>\n",
       "      <td>Verano</td>\n",
       "      <td>479.51</td>\n",
       "      <td>1.7</td>\n",
       "      <td>la calidad no es la esperada</td>\n",
       "      <td>Don limpio</td>\n",
       "      <td>Valladolid</td>\n",
       "    </tr>\n",
       "    <tr>\n",
       "      <th>2</th>\n",
       "      <td>1</td>\n",
       "      <td>Baño</td>\n",
       "      <td>6</td>\n",
       "      <td>Primavera</td>\n",
       "      <td>459.00</td>\n",
       "      <td>4.8</td>\n",
       "      <td>justo lo que esperaba</td>\n",
       "      <td>Cristasol</td>\n",
       "      <td>Valladolid</td>\n",
       "    </tr>\n",
       "  </tbody>\n",
       "</table>\n",
       "</div>"
      ],
      "text/plain": [
       "   usuario categorias  numero_articulos      fecha  precio  valoracion  \\\n",
       "0        1     Cocina                 2      Otoño  112.28         2.7   \n",
       "1        1       Baño                 6     Verano  479.51         1.7   \n",
       "2        1       Baño                 6  Primavera  459.00         4.8   \n",
       "\n",
       "                     comentarios proveedores      ciudad  \n",
       "0                       me gusto       Flora  Valladolid  \n",
       "1   la calidad no es la esperada  Don limpio  Valladolid  \n",
       "2          justo lo que esperaba   Cristasol  Valladolid  "
      ]
     },
     "execution_count": 3,
     "metadata": {},
     "output_type": "execute_result"
    }
   ],
   "source": [
    "df0.head(3)"
   ]
  },
  {
   "cell_type": "code",
   "execution_count": 6,
   "metadata": {},
   "outputs": [
    {
     "data": {
      "text/html": [
       "<div>\n",
       "<style scoped>\n",
       "    .dataframe tbody tr th:only-of-type {\n",
       "        vertical-align: middle;\n",
       "    }\n",
       "\n",
       "    .dataframe tbody tr th {\n",
       "        vertical-align: top;\n",
       "    }\n",
       "\n",
       "    .dataframe thead th {\n",
       "        text-align: right;\n",
       "    }\n",
       "</style>\n",
       "<table border=\"1\" class=\"dataframe\">\n",
       "  <thead>\n",
       "    <tr style=\"text-align: right;\">\n",
       "      <th></th>\n",
       "      <th>usuario</th>\n",
       "      <th>genero</th>\n",
       "      <th>edad</th>\n",
       "      <th>ciudad</th>\n",
       "      <th>gasto_mes</th>\n",
       "      <th>miembro_plus</th>\n",
       "      <th>dispositivo</th>\n",
       "      <th>tiempo_mes</th>\n",
       "    </tr>\n",
       "  </thead>\n",
       "  <tbody>\n",
       "    <tr>\n",
       "      <th>0</th>\n",
       "      <td>1</td>\n",
       "      <td>Mujer</td>\n",
       "      <td>21</td>\n",
       "      <td>Valladolid</td>\n",
       "      <td>483.81</td>\n",
       "      <td>0</td>\n",
       "      <td>PC</td>\n",
       "      <td>3.30</td>\n",
       "    </tr>\n",
       "    <tr>\n",
       "      <th>1</th>\n",
       "      <td>2</td>\n",
       "      <td>Mujer</td>\n",
       "      <td>45</td>\n",
       "      <td>Valladolid</td>\n",
       "      <td>186.30</td>\n",
       "      <td>1</td>\n",
       "      <td>PC</td>\n",
       "      <td>6.60</td>\n",
       "    </tr>\n",
       "    <tr>\n",
       "      <th>2</th>\n",
       "      <td>3</td>\n",
       "      <td>Mujer</td>\n",
       "      <td>64</td>\n",
       "      <td>Murcia</td>\n",
       "      <td>396.03</td>\n",
       "      <td>0</td>\n",
       "      <td>PC</td>\n",
       "      <td>2.09</td>\n",
       "    </tr>\n",
       "  </tbody>\n",
       "</table>\n",
       "</div>"
      ],
      "text/plain": [
       "   usuario genero  edad      ciudad  gasto_mes  miembro_plus dispositivo  \\\n",
       "0        1  Mujer    21  Valladolid     483.81             0          PC   \n",
       "1        2  Mujer    45  Valladolid     186.30             1          PC   \n",
       "2        3  Mujer    64      Murcia     396.03             0          PC   \n",
       "\n",
       "   tiempo_mes  \n",
       "0        3.30  \n",
       "1        6.60  \n",
       "2        2.09  "
      ]
     },
     "execution_count": 6,
     "metadata": {},
     "output_type": "execute_result"
    }
   ],
   "source": [
    "# df with the user info\n",
    "df1 = pd.read_csv( 'users_data.csv' )\n",
    "df1.head(3)"
   ]
  },
  {
   "cell_type": "code",
   "execution_count": 7,
   "metadata": {},
   "outputs": [],
   "source": [
    "# df with the gender\n",
    "df_gender = df1[ ['usuario', 'genero'] ]"
   ]
  },
  {
   "cell_type": "code",
   "execution_count": 8,
   "metadata": {},
   "outputs": [],
   "source": [
    "# Add the gender to the df0\n",
    "df2 = df0.set_index('usuario').join( df_gender.set_index('usuario') )"
   ]
  },
  {
   "cell_type": "code",
   "execution_count": 11,
   "metadata": {},
   "outputs": [
    {
     "data": {
      "text/plain": [
       "(10000, 9)"
      ]
     },
     "execution_count": 11,
     "metadata": {},
     "output_type": "execute_result"
    }
   ],
   "source": [
    "# review the shape df2\n",
    "df2.shape"
   ]
  },
  {
   "cell_type": "code",
   "execution_count": 18,
   "metadata": {},
   "outputs": [],
   "source": [
    "df3 = df2.reset_index()"
   ]
  },
  {
   "cell_type": "code",
   "execution_count": null,
   "metadata": {},
   "outputs": [],
   "source": []
  },
  {
   "cell_type": "code",
   "execution_count": 24,
   "metadata": {},
   "outputs": [],
   "source": [
    "# Example: titanic[titanic[\"Age\"] > 35]\n",
    "# The best selling city in spring\n",
    "best_selling_city_season = df3[ \n",
    "                               (df3['ciudad']== 'Gijón')\n",
    "                               & (df3['fecha']== 'Primavera')\n",
    "                               ]"
   ]
  },
  {
   "cell_type": "code",
   "execution_count": 25,
   "metadata": {},
   "outputs": [
    {
     "data": {
      "text/plain": [
       "(429, 10)"
      ]
     },
     "execution_count": 25,
     "metadata": {},
     "output_type": "execute_result"
    }
   ],
   "source": [
    "best_selling_city_season.shape"
   ]
  },
  {
   "cell_type": "code",
   "execution_count": 26,
   "metadata": {},
   "outputs": [
    {
     "data": {
      "text/html": [
       "<div>\n",
       "<style scoped>\n",
       "    .dataframe tbody tr th:only-of-type {\n",
       "        vertical-align: middle;\n",
       "    }\n",
       "\n",
       "    .dataframe tbody tr th {\n",
       "        vertical-align: top;\n",
       "    }\n",
       "\n",
       "    .dataframe thead th {\n",
       "        text-align: right;\n",
       "    }\n",
       "</style>\n",
       "<table border=\"1\" class=\"dataframe\">\n",
       "  <thead>\n",
       "    <tr style=\"text-align: right;\">\n",
       "      <th></th>\n",
       "      <th>usuario</th>\n",
       "      <th>categorias</th>\n",
       "      <th>numero_articulos</th>\n",
       "      <th>fecha</th>\n",
       "      <th>precio</th>\n",
       "      <th>valoracion</th>\n",
       "      <th>comentarios</th>\n",
       "      <th>proveedores</th>\n",
       "      <th>ciudad</th>\n",
       "      <th>genero</th>\n",
       "    </tr>\n",
       "  </thead>\n",
       "  <tbody>\n",
       "    <tr>\n",
       "      <th>133</th>\n",
       "      <td>8</td>\n",
       "      <td>Ferreteria</td>\n",
       "      <td>10</td>\n",
       "      <td>Primavera</td>\n",
       "      <td>31.30</td>\n",
       "      <td>2.3</td>\n",
       "      <td>la calidad no es la esperada</td>\n",
       "      <td>Sika</td>\n",
       "      <td>Gijón</td>\n",
       "      <td>Hombre</td>\n",
       "    </tr>\n",
       "    <tr>\n",
       "      <th>134</th>\n",
       "      <td>8</td>\n",
       "      <td>Deporte</td>\n",
       "      <td>7</td>\n",
       "      <td>Primavera</td>\n",
       "      <td>100.18</td>\n",
       "      <td>3.6</td>\n",
       "      <td>buena relacion calidad-precio</td>\n",
       "      <td>Asics</td>\n",
       "      <td>Gijón</td>\n",
       "      <td>Hombre</td>\n",
       "    </tr>\n",
       "    <tr>\n",
       "      <th>135</th>\n",
       "      <td>8</td>\n",
       "      <td>Electronica</td>\n",
       "      <td>5</td>\n",
       "      <td>Primavera</td>\n",
       "      <td>152.73</td>\n",
       "      <td>3.8</td>\n",
       "      <td>buena relacion calidad-precio</td>\n",
       "      <td>Apple</td>\n",
       "      <td>Gijón</td>\n",
       "      <td>Hombre</td>\n",
       "    </tr>\n",
       "  </tbody>\n",
       "</table>\n",
       "</div>"
      ],
      "text/plain": [
       "     usuario   categorias  numero_articulos      fecha  precio  valoracion  \\\n",
       "133        8   Ferreteria                10  Primavera   31.30         2.3   \n",
       "134        8      Deporte                 7  Primavera  100.18         3.6   \n",
       "135        8  Electronica                 5  Primavera  152.73         3.8   \n",
       "\n",
       "                       comentarios proveedores ciudad  genero  \n",
       "133   la calidad no es la esperada        Sika  Gijón  Hombre  \n",
       "134  buena relacion calidad-precio       Asics  Gijón  Hombre  \n",
       "135  buena relacion calidad-precio       Apple  Gijón  Hombre  "
      ]
     },
     "execution_count": 26,
     "metadata": {},
     "output_type": "execute_result"
    }
   ],
   "source": [
    "best_selling_city_season.head(3)"
   ]
  },
  {
   "cell_type": "code",
   "execution_count": 27,
   "metadata": {},
   "outputs": [],
   "source": [
    "best_selling_city_season_1 = best_selling_city_season.copy()"
   ]
  },
  {
   "cell_type": "code",
   "execution_count": 28,
   "metadata": {},
   "outputs": [
    {
     "data": {
      "text/html": [
       "<div>\n",
       "<style scoped>\n",
       "    .dataframe tbody tr th:only-of-type {\n",
       "        vertical-align: middle;\n",
       "    }\n",
       "\n",
       "    .dataframe tbody tr th {\n",
       "        vertical-align: top;\n",
       "    }\n",
       "\n",
       "    .dataframe thead th {\n",
       "        text-align: right;\n",
       "    }\n",
       "</style>\n",
       "<table border=\"1\" class=\"dataframe\">\n",
       "  <thead>\n",
       "    <tr style=\"text-align: right;\">\n",
       "      <th></th>\n",
       "      <th>usuario</th>\n",
       "      <th>categorias</th>\n",
       "      <th>numero_articulos</th>\n",
       "      <th>fecha</th>\n",
       "      <th>precio</th>\n",
       "      <th>valoracion</th>\n",
       "      <th>comentarios</th>\n",
       "      <th>proveedores</th>\n",
       "      <th>ciudad</th>\n",
       "      <th>genero</th>\n",
       "    </tr>\n",
       "  </thead>\n",
       "  <tbody>\n",
       "    <tr>\n",
       "      <th>133</th>\n",
       "      <td>8</td>\n",
       "      <td>Ferreteria</td>\n",
       "      <td>10</td>\n",
       "      <td>Primavera</td>\n",
       "      <td>31.30</td>\n",
       "      <td>2.3</td>\n",
       "      <td>la calidad no es la esperada</td>\n",
       "      <td>Sika</td>\n",
       "      <td>Gijón</td>\n",
       "      <td>Hombre</td>\n",
       "    </tr>\n",
       "    <tr>\n",
       "      <th>134</th>\n",
       "      <td>8</td>\n",
       "      <td>Deporte</td>\n",
       "      <td>7</td>\n",
       "      <td>Primavera</td>\n",
       "      <td>100.18</td>\n",
       "      <td>3.6</td>\n",
       "      <td>buena relacion calidad-precio</td>\n",
       "      <td>Asics</td>\n",
       "      <td>Gijón</td>\n",
       "      <td>Hombre</td>\n",
       "    </tr>\n",
       "    <tr>\n",
       "      <th>135</th>\n",
       "      <td>8</td>\n",
       "      <td>Electronica</td>\n",
       "      <td>5</td>\n",
       "      <td>Primavera</td>\n",
       "      <td>152.73</td>\n",
       "      <td>3.8</td>\n",
       "      <td>buena relacion calidad-precio</td>\n",
       "      <td>Apple</td>\n",
       "      <td>Gijón</td>\n",
       "      <td>Hombre</td>\n",
       "    </tr>\n",
       "  </tbody>\n",
       "</table>\n",
       "</div>"
      ],
      "text/plain": [
       "     usuario   categorias  numero_articulos      fecha  precio  valoracion  \\\n",
       "133        8   Ferreteria                10  Primavera   31.30         2.3   \n",
       "134        8      Deporte                 7  Primavera  100.18         3.6   \n",
       "135        8  Electronica                 5  Primavera  152.73         3.8   \n",
       "\n",
       "                       comentarios proveedores ciudad  genero  \n",
       "133   la calidad no es la esperada        Sika  Gijón  Hombre  \n",
       "134  buena relacion calidad-precio       Asics  Gijón  Hombre  \n",
       "135  buena relacion calidad-precio       Apple  Gijón  Hombre  "
      ]
     },
     "execution_count": 28,
     "metadata": {},
     "output_type": "execute_result"
    }
   ],
   "source": [
    "best_selling_city_season_1.head(3)"
   ]
  },
  {
   "cell_type": "code",
   "execution_count": 29,
   "metadata": {},
   "outputs": [],
   "source": [
    "top_suppliers_gijon_gender = best_selling_city_season_1[ [ 'genero', 'precio', 'proveedores' ] ]"
   ]
  },
  {
   "cell_type": "code",
   "execution_count": 30,
   "metadata": {},
   "outputs": [
    {
     "data": {
      "text/plain": [
       "44"
      ]
     },
     "execution_count": 30,
     "metadata": {},
     "output_type": "execute_result"
    }
   ],
   "source": [
    "# Cantidad de proveedores\n",
    "len(top_suppliers_gijon_gender['proveedores'].unique())"
   ]
  },
  {
   "cell_type": "code",
   "execution_count": 36,
   "metadata": {},
   "outputs": [],
   "source": [
    "# df de ventas por proveedor\n",
    "#top_suppliers_gijon_gender.groupby(['proveedores']).sum()\n",
    "suppliers_sales = top_suppliers_gijon_gender.groupby(['proveedores']).sum()"
   ]
  },
  {
   "cell_type": "code",
   "execution_count": 37,
   "metadata": {},
   "outputs": [
    {
     "data": {
      "image/png": "[encoded data removed]",
      "text/plain": [
       "<Figure size 1080x432 with 1 Axes>"
      ]
     },
     "metadata": {
      "needs_background": "light"
     },
     "output_type": "display_data"
    }
   ],
   "source": [
    "# Gráfica desordenada de los proveedores más vendidos\n",
    "suppliers_sales.plot.bar( figsize=(15,6) );"
   ]
  },
  {
   "cell_type": "code",
   "execution_count": 38,
   "metadata": {},
   "outputs": [],
   "source": [
    "# proveedores ordenados por ventas\n",
    "# suppliers_sales.sort_values(by='precio', ascending=False)\n",
    "suppliers_sorted_by_price = suppliers_sales.sort_values(by='precio', ascending=False)"
   ]
  },
  {
   "cell_type": "code",
   "execution_count": 39,
   "metadata": {},
   "outputs": [
    {
     "data": {
      "text/plain": [
       "'Henkel'"
      ]
     },
     "execution_count": 39,
     "metadata": {},
     "output_type": "execute_result"
    }
   ],
   "source": [
    "# The worst supplier\n",
    "suppliers_sorted_by_price.index.tolist()[-1]"
   ]
  },
  {
   "cell_type": "code",
   "execution_count": 40,
   "metadata": {},
   "outputs": [
    {
     "data": {
      "image/png": "[encoded data removed]",
      "text/plain": [
       "<Figure size 1080x432 with 1 Axes>"
      ]
     },
     "metadata": {
      "needs_background": "light"
     },
     "output_type": "display_data"
    }
   ],
   "source": [
    "# Gráfica de los proveedores maś vendidos\n",
    "suppliers_sorted_by_price.plot.bar( figsize=(15,6) );"
   ]
  },
  {
   "cell_type": "code",
   "execution_count": 41,
   "metadata": {},
   "outputs": [],
   "source": [
    "# Por inspección visual, se decide trabajar con los primeros 5\n",
    "# Primeros 15 proveedores\n",
    "top_5_supp = suppliers_sorted_by_price.iloc[:5]"
   ]
  },
  {
   "cell_type": "code",
   "execution_count": 42,
   "metadata": {},
   "outputs": [
    {
     "name": "stdout",
     "output_type": "stream",
     "text": [
      "[' Michael Kors', 'Crocs', 'Yale', 'Alianza Editorial', 'Ray-ban']\n"
     ]
    }
   ],
   "source": [
    "print( top_5_supp.index.to_list() )"
   ]
  },
  {
   "cell_type": "code",
   "execution_count": 46,
   "metadata": {},
   "outputs": [
    {
     "data": {
      "image/png": "[encoded data removed]",
      "text/plain": [
       "<Figure size 1080x432 with 1 Axes>"
      ]
     },
     "metadata": {
      "needs_background": "light"
     },
     "output_type": "display_data"
    }
   ],
   "source": [
    "# graph top 5 selling suppliers\n",
    "top_5_supp.plot.bar( figsize=(15,6) );"
   ]
  },
  {
   "cell_type": "code",
   "execution_count": 47,
   "metadata": {},
   "outputs": [
    {
     "name": "stdout",
     "output_type": "stream",
     "text": [
      "[' Michael Kors', 'Crocs', 'Yale', 'Alianza Editorial', 'Ray-ban']\n"
     ]
    }
   ],
   "source": [
    "# 5 proveedores más vendidos\n",
    "print( top_5_supp.index.to_list() )\n",
    "#list_5_sup = top_5_supp.index.to_list()\n"
   ]
  },
  {
   "cell_type": "code",
   "execution_count": 48,
   "metadata": {},
   "outputs": [
    {
     "data": {
      "text/html": [
       "<div>\n",
       "<style scoped>\n",
       "    .dataframe tbody tr th:only-of-type {\n",
       "        vertical-align: middle;\n",
       "    }\n",
       "\n",
       "    .dataframe tbody tr th {\n",
       "        vertical-align: top;\n",
       "    }\n",
       "\n",
       "    .dataframe thead th {\n",
       "        text-align: right;\n",
       "    }\n",
       "</style>\n",
       "<table border=\"1\" class=\"dataframe\">\n",
       "  <thead>\n",
       "    <tr style=\"text-align: right;\">\n",
       "      <th></th>\n",
       "      <th>genero</th>\n",
       "      <th>precio</th>\n",
       "      <th>proveedores</th>\n",
       "    </tr>\n",
       "  </thead>\n",
       "  <tbody>\n",
       "    <tr>\n",
       "      <th>133</th>\n",
       "      <td>Hombre</td>\n",
       "      <td>31.30</td>\n",
       "      <td>Sika</td>\n",
       "    </tr>\n",
       "    <tr>\n",
       "      <th>134</th>\n",
       "      <td>Hombre</td>\n",
       "      <td>100.18</td>\n",
       "      <td>Asics</td>\n",
       "    </tr>\n",
       "    <tr>\n",
       "      <th>135</th>\n",
       "      <td>Hombre</td>\n",
       "      <td>152.73</td>\n",
       "      <td>Apple</td>\n",
       "    </tr>\n",
       "  </tbody>\n",
       "</table>\n",
       "</div>"
      ],
      "text/plain": [
       "     genero  precio proveedores\n",
       "133  Hombre   31.30        Sika\n",
       "134  Hombre  100.18       Asics\n",
       "135  Hombre  152.73       Apple"
      ]
     },
     "execution_count": 48,
     "metadata": {},
     "output_type": "execute_result"
    }
   ],
   "source": [
    "top_suppliers_gijon_gender.head(3)"
   ]
  },
  {
   "cell_type": "code",
   "execution_count": 49,
   "metadata": {},
   "outputs": [
    {
     "data": {
      "text/plain": [
       "(429, 3)"
      ]
     },
     "execution_count": 49,
     "metadata": {},
     "output_type": "execute_result"
    }
   ],
   "source": [
    "top_suppliers_gijon_gender.shape"
   ]
  },
  {
   "cell_type": "code",
   "execution_count": 54,
   "metadata": {},
   "outputs": [],
   "source": [
    "#top_suppliers_gijon_gender[top_suppliers_gijon_gender['proveedores']==' Michael Kors']"
   ]
  },
  {
   "cell_type": "code",
   "execution_count": 55,
   "metadata": {},
   "outputs": [],
   "source": [
    "# df con los top 5 proveedores\n",
    "\n",
    "top_5_sup = top_suppliers_gijon_gender[ \n",
    "                      ( top_suppliers_gijon_gender['proveedores'] == ' Michael Kors' )\n",
    "                    | ( top_suppliers_gijon_gender['proveedores'] == 'Crocs' )\n",
    "                    | ( top_suppliers_gijon_gender['proveedores'] == 'Yale' )\n",
    "                    | ( top_suppliers_gijon_gender['proveedores'] == 'Alianza Editorial' )\n",
    "                    | ( top_suppliers_gijon_gender['proveedores'] == 'Ray-ban' )\n",
    "                    ]"
   ]
  },
  {
   "cell_type": "code",
   "execution_count": 56,
   "metadata": {},
   "outputs": [
    {
     "data": {
      "text/html": [
       "<div>\n",
       "<style scoped>\n",
       "    .dataframe tbody tr th:only-of-type {\n",
       "        vertical-align: middle;\n",
       "    }\n",
       "\n",
       "    .dataframe tbody tr th {\n",
       "        vertical-align: top;\n",
       "    }\n",
       "\n",
       "    .dataframe thead th {\n",
       "        text-align: right;\n",
       "    }\n",
       "</style>\n",
       "<table border=\"1\" class=\"dataframe\">\n",
       "  <thead>\n",
       "    <tr style=\"text-align: right;\">\n",
       "      <th></th>\n",
       "      <th>genero</th>\n",
       "      <th>precio</th>\n",
       "      <th>proveedores</th>\n",
       "    </tr>\n",
       "  </thead>\n",
       "  <tbody>\n",
       "    <tr>\n",
       "      <th>143</th>\n",
       "      <td>Hombre</td>\n",
       "      <td>455.56</td>\n",
       "      <td>Michael Kors</td>\n",
       "    </tr>\n",
       "    <tr>\n",
       "      <th>153</th>\n",
       "      <td>Hombre</td>\n",
       "      <td>432.40</td>\n",
       "      <td>Alianza Editorial</td>\n",
       "    </tr>\n",
       "    <tr>\n",
       "      <th>373</th>\n",
       "      <td>Hombre</td>\n",
       "      <td>449.82</td>\n",
       "      <td>Yale</td>\n",
       "    </tr>\n",
       "  </tbody>\n",
       "</table>\n",
       "</div>"
      ],
      "text/plain": [
       "     genero  precio        proveedores\n",
       "143  Hombre  455.56       Michael Kors\n",
       "153  Hombre  432.40  Alianza Editorial\n",
       "373  Hombre  449.82               Yale"
      ]
     },
     "execution_count": 56,
     "metadata": {},
     "output_type": "execute_result"
    }
   ],
   "source": [
    "top_5_sup.head(3)"
   ]
  },
  {
   "cell_type": "code",
   "execution_count": 59,
   "metadata": {},
   "outputs": [
    {
     "data": {
      "text/html": [
       "<div>\n",
       "<style scoped>\n",
       "    .dataframe tbody tr th:only-of-type {\n",
       "        vertical-align: middle;\n",
       "    }\n",
       "\n",
       "    .dataframe tbody tr th {\n",
       "        vertical-align: top;\n",
       "    }\n",
       "\n",
       "    .dataframe thead th {\n",
       "        text-align: right;\n",
       "    }\n",
       "</style>\n",
       "<table border=\"1\" class=\"dataframe\">\n",
       "  <thead>\n",
       "    <tr style=\"text-align: right;\">\n",
       "      <th>genero</th>\n",
       "      <th>Hombre</th>\n",
       "      <th>Mujer</th>\n",
       "    </tr>\n",
       "    <tr>\n",
       "      <th>proveedores</th>\n",
       "      <th></th>\n",
       "      <th></th>\n",
       "    </tr>\n",
       "  </thead>\n",
       "  <tbody>\n",
       "    <tr>\n",
       "      <th>Michael Kors</th>\n",
       "      <td>2854.71</td>\n",
       "      <td>1637.68</td>\n",
       "    </tr>\n",
       "    <tr>\n",
       "      <th>Alianza Editorial</th>\n",
       "      <td>1777.39</td>\n",
       "      <td>1657.46</td>\n",
       "    </tr>\n",
       "    <tr>\n",
       "      <th>Crocs</th>\n",
       "      <td>2026.13</td>\n",
       "      <td>2274.92</td>\n",
       "    </tr>\n",
       "    <tr>\n",
       "      <th>Ray-ban</th>\n",
       "      <td>1131.43</td>\n",
       "      <td>2094.62</td>\n",
       "    </tr>\n",
       "    <tr>\n",
       "      <th>Yale</th>\n",
       "      <td>2083.18</td>\n",
       "      <td>1508.84</td>\n",
       "    </tr>\n",
       "  </tbody>\n",
       "</table>\n",
       "</div>"
      ],
      "text/plain": [
       "genero              Hombre    Mujer\n",
       "proveedores                        \n",
       " Michael Kors      2854.71  1637.68\n",
       "Alianza Editorial  1777.39  1657.46\n",
       "Crocs              2026.13  2274.92\n",
       "Ray-ban            1131.43  2094.62\n",
       "Yale               2083.18  1508.84"
      ]
     },
     "execution_count": 59,
     "metadata": {},
     "output_type": "execute_result"
    }
   ],
   "source": [
    "# Temparada en la que más se venden estos provedores\n",
    "# pd.pivot_table(data=df6, index=['ciudad'], values='precio', columns=['fecha'], aggfunc=np.sum)\n",
    "pd.pivot_table( data=top_5_sup, index=['proveedores'], values='precio', columns=['genero'], aggfunc=np.sum )"
   ]
  },
  {
   "cell_type": "code",
   "execution_count": 62,
   "metadata": {},
   "outputs": [],
   "source": [
    "# Se guarda en un df\n",
    "suppliers_by_gender = pd.pivot_table( data=top_5_sup, index=['proveedores'], values='precio', columns=['genero'], aggfunc=np.sum )"
   ]
  },
  {
   "cell_type": "code",
   "execution_count": 64,
   "metadata": {},
   "outputs": [
    {
     "data": {
      "image/png": "[encoded data removed]",
      "text/plain": [
       "<Figure size 1080x432 with 1 Axes>"
      ]
     },
     "metadata": {
      "needs_background": "light"
     },
     "output_type": "display_data"
    }
   ],
   "source": [
    "# Gráfica con las ventas acumuladas por temporada\n",
    "suppliers_by_gender.plot.bar(stacked=True, figsize=(15, 6));"
   ]
  },
  {
   "cell_type": "code",
   "execution_count": 70,
   "metadata": {},
   "outputs": [
    {
     "data": {
      "image/png": "[encoded data removed]",
      "text/plain": [
       "<Figure size 1080x432 with 1 Axes>"
      ]
     },
     "metadata": {
      "needs_background": "light"
     },
     "output_type": "display_data"
    }
   ],
   "source": [
    "# gráfica con las ventas segregadas por temporada\n",
    "suppliers_by_gender.plot.bar( figsize=(15,6) );\n",
    "plt.title('Proveedores más vendidos por género en Primavera en Gijón');\n",
    "plt.ylabel('Acumulado de ventas [euros]');"
   ]
  },
  {
   "cell_type": "code",
   "execution_count": null,
   "metadata": {},
   "outputs": [],
   "source": []
  }
 ],
 "metadata": {
  "interpreter": {
   "hash": "3313d7862e35f23cb796a0d5e1a05f5386948db6518b51457360428deb8d3fb3"
  },
  "kernelspec": {
   "display_name": "Python 3.8.3 64-bit ('base': conda)",
   "language": "python",
   "name": "python3"
  },
  "language_info": {
   "codemirror_mode": {
    "name": "ipython",
    "version": 3
   },
   "file_extension": ".py",
   "mimetype": "text/x-python",
   "name": "python",
   "nbconvert_exporter": "python",
   "pygments_lexer": "ipython3",
   "version": "3.8.3"
  },
  "orig_nbformat": 4
 },
 "nbformat": 4,
 "nbformat_minor": 2
}
